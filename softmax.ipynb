{
 "cells": [
  {
   "cell_type": "markdown",
   "metadata": {},
   "source": [
    "# Softmax exercise\n",
    "\n",
    "*Complete and hand in this completed worksheet (including its outputs and any supporting code outside of the worksheet) with your assignment submission. For more details see the [assignments page](https://course.cse.ust.hk/comp4901j/Password_Only/programs/assignment1/index.html) on the course website.*\n",
    "\n",
    "This exercise is analogous to the SVM exercise. You will:\n",
    "\n",
    "- implement a fully-vectorized **loss function** for the Softmax classifier\n",
    "- implement the fully-vectorized expression for its **analytic gradient**\n",
    "- **check your implementation** with numerical gradient\n",
    "- use a validation set to **tune the learning rate and regularization** strength\n",
    "- **optimize** the loss function with **SGD**\n",
    "- **visualize** the final learned weights\n"
   ]
  },
  {
   "cell_type": "code",
   "execution_count": 29,
   "metadata": {},
   "outputs": [
    {
     "name": "stdout",
     "output_type": "stream",
     "text": [
      "The autoreload extension is already loaded. To reload it, use:\n",
      "  %reload_ext autoreload\n"
     ]
    }
   ],
   "source": [
    "import random\n",
    "import numpy as np\n",
    "from cs231n.data_utils import load_CIFAR10\n",
    "import matplotlib.pyplot as plt\n",
    "\n",
    "from __future__ import print_function\n",
    "\n",
    "%matplotlib inline\n",
    "plt.rcParams['figure.figsize'] = (10.0, 8.0) # set default size of plots\n",
    "plt.rcParams['image.interpolation'] = 'nearest'\n",
    "plt.rcParams['image.cmap'] = 'gray'\n",
    "\n",
    "# for auto-reloading extenrnal modules\n",
    "# see http://stackoverflow.com/questions/1907993/autoreload-of-modules-in-ipython\n",
    "%load_ext autoreload\n",
    "%autoreload 2"
   ]
  },
  {
   "cell_type": "code",
   "execution_count": 30,
   "metadata": {},
   "outputs": [
    {
     "name": "stdout",
     "output_type": "stream",
     "text": [
      "Train data shape:  (49000, 3073)\n",
      "Train labels shape:  (49000,)\n",
      "Validation data shape:  (1000, 3073)\n",
      "Validation labels shape:  (1000,)\n",
      "Test data shape:  (1000, 3073)\n",
      "Test labels shape:  (1000,)\n",
      "dev data shape:  (500, 3073)\n",
      "dev labels shape:  (500,)\n"
     ]
    }
   ],
   "source": [
    "def get_CIFAR10_data(num_training=49000, num_validation=1000, num_test=1000, num_dev=500):\n",
    "    \"\"\"\n",
    "    Load the CIFAR-10 dataset from disk and perform preprocessing to prepare\n",
    "    it for the linear classifier. These are the same steps as we used for the\n",
    "    SVM, but condensed to a single function.  \n",
    "    \"\"\"\n",
    "    # Load the raw CIFAR-10 data\n",
    "    cifar10_dir = 'cs231n/datasets/cifar-10-batches-py'\n",
    "    X_train, y_train, X_test, y_test = load_CIFAR10(cifar10_dir)\n",
    "    \n",
    "    # subsample the data\n",
    "    mask = list(range(num_training, num_training + num_validation))\n",
    "    X_val = X_train[mask]\n",
    "    y_val = y_train[mask]\n",
    "    mask = list(range(num_training))\n",
    "    X_train = X_train[mask]\n",
    "    y_train = y_train[mask]\n",
    "    mask = list(range(num_test))\n",
    "    X_test = X_test[mask]\n",
    "    y_test = y_test[mask]\n",
    "    mask = np.random.choice(num_training, num_dev, replace=False)\n",
    "    X_dev = X_train[mask]\n",
    "    y_dev = y_train[mask]\n",
    "    \n",
    "    # Preprocessing: reshape the image data into rows\n",
    "    X_train = np.reshape(X_train, (X_train.shape[0], -1))\n",
    "    X_val = np.reshape(X_val, (X_val.shape[0], -1))\n",
    "    X_test = np.reshape(X_test, (X_test.shape[0], -1))\n",
    "    X_dev = np.reshape(X_dev, (X_dev.shape[0], -1))\n",
    "    \n",
    "    # Normalize the data: subtract the mean image\n",
    "    mean_image = np.mean(X_train, axis = 0)\n",
    "    X_train -= mean_image\n",
    "    X_val -= mean_image\n",
    "    X_test -= mean_image\n",
    "    X_dev -= mean_image\n",
    "    \n",
    "    # add bias dimension and transform into columns\n",
    "    X_train = np.hstack([X_train, np.ones((X_train.shape[0], 1))])\n",
    "    X_val = np.hstack([X_val, np.ones((X_val.shape[0], 1))])\n",
    "    X_test = np.hstack([X_test, np.ones((X_test.shape[0], 1))])\n",
    "    X_dev = np.hstack([X_dev, np.ones((X_dev.shape[0], 1))])\n",
    "    \n",
    "    return X_train, y_train, X_val, y_val, X_test, y_test, X_dev, y_dev\n",
    "\n",
    "\n",
    "# Invoke the above function to get our data.\n",
    "X_train, y_train, X_val, y_val, X_test, y_test, X_dev, y_dev = get_CIFAR10_data()\n",
    "print('Train data shape: ', X_train.shape)\n",
    "print('Train labels shape: ', y_train.shape)\n",
    "print('Validation data shape: ', X_val.shape)\n",
    "print('Validation labels shape: ', y_val.shape)\n",
    "print('Test data shape: ', X_test.shape)\n",
    "print('Test labels shape: ', y_test.shape)\n",
    "print('dev data shape: ', X_dev.shape)\n",
    "print('dev labels shape: ', y_dev.shape)"
   ]
  },
  {
   "cell_type": "markdown",
   "metadata": {},
   "source": [
    "## Softmax Classifier\n",
    "\n",
    "Your code for this section will all be written inside **cs231n/classifiers/softmax.py**. \n"
   ]
  },
  {
   "cell_type": "code",
   "execution_count": 31,
   "metadata": {},
   "outputs": [
    {
     "name": "stdout",
     "output_type": "stream",
     "text": [
      "loss: 2.349440\n",
      "sanity check: 2.302585\n"
     ]
    }
   ],
   "source": [
    "# First implement the naive softmax loss function with nested loops.\n",
    "# Open the file cs231n/classifiers/softmax.py and implement the\n",
    "# softmax_loss_naive function.\n",
    "\n",
    "from cs231n.classifiers.softmax import softmax_loss_naive\n",
    "import time\n",
    "\n",
    "# Generate a random softmax weight matrix and use it to compute the loss.\n",
    "W = np.random.randn(3073, 10) * 0.0001\n",
    "loss, grad = softmax_loss_naive(W, X_dev, y_dev, 0.0)\n",
    "\n",
    "# As a rough sanity check, our loss should be something close to -log(0.1).\n",
    "print('loss: %f' % loss)\n",
    "print('sanity check: %f' % (-np.log(0.1)))"
   ]
  },
  {
   "cell_type": "markdown",
   "metadata": {},
   "source": [
    "## Inline Question 1:\n",
    "Why do we expect our loss to be close to -log(0.1)? Explain briefly.**\n",
    "\n",
    "**Your answer:** We expect our loss to be close to -log(0.1) because we expect that the classes are equally likely to be chosen. Since CIFAR-10 consists of samples of ten classes, the probability of the correct class will be 1/10 = 0.1. The softmax loss is therefore -log(0.1).\n"
   ]
  },
  {
   "cell_type": "code",
   "execution_count": 32,
   "metadata": {},
   "outputs": [
    {
     "name": "stdout",
     "output_type": "stream",
     "text": [
      "numerical: -2.334127 analytic: -2.334127, relative error: 1.193094e-08\n",
      "numerical: -0.353507 analytic: -0.353507, relative error: 6.242834e-08\n",
      "numerical: -1.874904 analytic: -1.874904, relative error: 2.611086e-08\n",
      "numerical: -2.013269 analytic: -2.013269, relative error: 1.478502e-08\n",
      "numerical: 1.154694 analytic: 1.154694, relative error: 9.519545e-09\n",
      "numerical: -0.334328 analytic: -0.334328, relative error: 6.550687e-08\n",
      "numerical: 0.415043 analytic: 0.415043, relative error: 3.744410e-08\n",
      "numerical: -0.052384 analytic: -0.052384, relative error: 9.665608e-08\n",
      "numerical: 0.450806 analytic: 0.450806, relative error: 3.412266e-08\n",
      "numerical: -3.381060 analytic: -3.381060, relative error: 6.346168e-09\n",
      "numerical: 0.202786 analytic: 0.202786, relative error: 2.729038e-07\n",
      "numerical: 0.447578 analytic: 0.447578, relative error: 1.607180e-09\n",
      "numerical: -1.064629 analytic: -1.064629, relative error: 2.387686e-08\n",
      "numerical: 0.499873 analytic: 0.499873, relative error: 8.448659e-08\n",
      "numerical: 0.073327 analytic: 0.073327, relative error: 7.969080e-07\n",
      "numerical: -1.310643 analytic: -1.310643, relative error: 3.503976e-08\n",
      "numerical: 2.966741 analytic: 2.966741, relative error: 2.239773e-09\n",
      "numerical: -0.914631 analytic: -0.914631, relative error: 1.225683e-08\n",
      "numerical: 4.723635 analytic: 4.723635, relative error: 1.486019e-08\n",
      "numerical: 2.945380 analytic: 2.945380, relative error: 2.622842e-09\n"
     ]
    }
   ],
   "source": [
    "# Complete the implementation of softmax_loss_naive and implement a (naive)\n",
    "# version of the gradient that uses nested loops.\n",
    "loss, grad = softmax_loss_naive(W, X_dev, y_dev, 0.0)\n",
    "\n",
    "# As we did for the SVM, use numeric gradient checking as a debugging tool.\n",
    "# The numeric gradient should be close to the analytic gradient.\n",
    "from cs231n.gradient_check import grad_check_sparse\n",
    "f = lambda w: softmax_loss_naive(w, X_dev, y_dev, 0.0)[0]\n",
    "grad_numerical = grad_check_sparse(f, W, grad, 10)\n",
    "\n",
    "# similar to SVM case, do another gradient check with regularization\n",
    "loss, grad = softmax_loss_naive(W, X_dev, y_dev, 5e1)\n",
    "f = lambda w: softmax_loss_naive(w, X_dev, y_dev, 5e1)[0]\n",
    "grad_numerical = grad_check_sparse(f, W, grad, 10)"
   ]
  },
  {
   "cell_type": "code",
   "execution_count": 33,
   "metadata": {},
   "outputs": [
    {
     "name": "stdout",
     "output_type": "stream",
     "text": [
      "naive loss: 2.349440e+00 computed in 0.045014s\n",
      "vectorized loss: 2.349440e+00 computed in 0.003001s\n",
      "Loss difference: 0.000000\n",
      "Gradient difference: 0.000000\n"
     ]
    }
   ],
   "source": [
    "# Now that we have a naive implementation of the softmax loss function and its gradient,\n",
    "# implement a vectorized version in softmax_loss_vectorized.\n",
    "# The two versions should compute the same results, but the vectorized version should be\n",
    "# much faster.\n",
    "tic = time.time()\n",
    "loss_naive, grad_naive = softmax_loss_naive(W, X_dev, y_dev, 0.000005)\n",
    "toc = time.time()\n",
    "print('naive loss: %e computed in %fs' % (loss_naive, toc - tic))\n",
    "\n",
    "from cs231n.classifiers.softmax import softmax_loss_vectorized\n",
    "tic = time.time()\n",
    "loss_vectorized, grad_vectorized = softmax_loss_vectorized(W, X_dev, y_dev, 0.000005)\n",
    "toc = time.time()\n",
    "print('vectorized loss: %e computed in %fs' % (loss_vectorized, toc - tic))\n",
    "\n",
    "# As we did for the SVM, we use the Frobenius norm to compare the two versions\n",
    "# of the gradient.\n",
    "grad_difference = np.linalg.norm(grad_naive - grad_vectorized, ord='fro')\n",
    "print('Loss difference: %f' % np.abs(loss_naive - loss_vectorized))\n",
    "print('Gradient difference: %f' % grad_difference)"
   ]
  },
  {
   "cell_type": "code",
   "execution_count": 34,
   "metadata": {},
   "outputs": [
    {
     "name": "stderr",
     "output_type": "stream",
     "text": [
      "C:\\Users\\vodxac\\Desktop\\WPy-3662\\notebooks\\assignment1\\cs231n\\classifiers\\softmax.py:82: RuntimeWarning: divide by zero encountered in log\n",
      "  exp_sum = np.sum(exp_scores, axis = 1).reshape((num_train, -1))\n",
      "C:\\Users\\vodxac\\Desktop\\WPy-3662\\python-3.6.6.amd64\\lib\\site-packages\\numpy\\core\\_methods.py:32: RuntimeWarning: overflow encountered in reduce\n",
      "  return umr_sum(a, axis, dtype, out, keepdims)\n",
      "C:\\Users\\vodxac\\Desktop\\WPy-3662\\notebooks\\assignment1\\cs231n\\classifiers\\softmax.py:90: RuntimeWarning: overflow encountered in multiply\n",
      "  loss += reg * np.sum(W * W)\n"
     ]
    },
    {
     "name": "stdout",
     "output_type": "stream",
     "text": [
      "lr 5.000000e+02 reg 1.000000e-08 train accuracy: 0.284224 val accuracy: 0.270000\n",
      "lr 5.000000e+02 reg 1.000000e-07 train accuracy: 0.313367 val accuracy: 0.301000\n",
      "lr 5.000000e+02 reg 2.000000e-07 train accuracy: 0.270265 val accuracy: 0.290000\n",
      "lr 5.000000e+02 reg 2.000000e-06 train accuracy: 0.269592 val accuracy: 0.281000\n",
      "lr 5.000000e+02 reg 3.000000e-05 train accuracy: 0.208204 val accuracy: 0.212000\n",
      "lr 1.000000e+03 reg 1.000000e-08 train accuracy: 0.296327 val accuracy: 0.276000\n",
      "lr 1.000000e+03 reg 1.000000e-07 train accuracy: 0.325490 val accuracy: 0.314000\n",
      "lr 1.000000e+03 reg 2.000000e-07 train accuracy: 0.302122 val accuracy: 0.284000\n",
      "lr 1.000000e+03 reg 2.000000e-06 train accuracy: 0.265776 val accuracy: 0.262000\n",
      "lr 1.000000e+03 reg 3.000000e-05 train accuracy: 0.221429 val accuracy: 0.242000\n",
      "lr 5.000000e+03 reg 1.000000e-08 train accuracy: 0.328041 val accuracy: 0.343000\n",
      "lr 5.000000e+03 reg 1.000000e-07 train accuracy: 0.280816 val accuracy: 0.278000\n",
      "lr 5.000000e+03 reg 2.000000e-07 train accuracy: 0.253204 val accuracy: 0.242000\n",
      "lr 5.000000e+03 reg 2.000000e-06 train accuracy: 0.252735 val accuracy: 0.277000\n",
      "lr 5.000000e+03 reg 3.000000e-05 train accuracy: 0.162020 val accuracy: 0.168000\n",
      "lr 1.000000e+04 reg 1.000000e-08 train accuracy: 0.351571 val accuracy: 0.331000\n",
      "lr 1.000000e+04 reg 1.000000e-07 train accuracy: 0.307918 val accuracy: 0.293000\n",
      "lr 1.000000e+04 reg 2.000000e-07 train accuracy: 0.259000 val accuracy: 0.266000\n",
      "lr 1.000000e+04 reg 2.000000e-06 train accuracy: 0.221612 val accuracy: 0.247000\n",
      "lr 1.000000e+04 reg 3.000000e-05 train accuracy: 0.148878 val accuracy: 0.144000\n",
      "lr 2.000000e+04 reg 1.000000e-08 train accuracy: 0.295857 val accuracy: 0.291000\n",
      "lr 2.000000e+04 reg 1.000000e-07 train accuracy: 0.266755 val accuracy: 0.276000\n",
      "lr 2.000000e+04 reg 2.000000e-07 train accuracy: 0.249041 val accuracy: 0.259000\n",
      "lr 2.000000e+04 reg 2.000000e-06 train accuracy: 0.213612 val accuracy: 0.211000\n",
      "lr 2.000000e+04 reg 3.000000e-05 train accuracy: 0.097939 val accuracy: 0.083000\n",
      "lr 2.500000e+04 reg 1.000000e-08 train accuracy: 0.301122 val accuracy: 0.301000\n",
      "lr 2.500000e+04 reg 1.000000e-07 train accuracy: 0.194776 val accuracy: 0.184000\n",
      "lr 2.500000e+04 reg 2.000000e-07 train accuracy: 0.250959 val accuracy: 0.238000\n",
      "lr 2.500000e+04 reg 2.000000e-06 train accuracy: 0.169571 val accuracy: 0.175000\n",
      "lr 2.500000e+04 reg 3.000000e-05 train accuracy: 0.078898 val accuracy: 0.083000\n",
      "lr 3.000000e+04 reg 1.000000e-08 train accuracy: 0.288041 val accuracy: 0.296000\n",
      "lr 3.000000e+04 reg 1.000000e-07 train accuracy: 0.290265 val accuracy: 0.305000\n",
      "lr 3.000000e+04 reg 2.000000e-07 train accuracy: 0.268224 val accuracy: 0.283000\n",
      "lr 3.000000e+04 reg 2.000000e-06 train accuracy: 0.131612 val accuracy: 0.144000\n",
      "lr 3.000000e+04 reg 3.000000e-05 train accuracy: 0.053612 val accuracy: 0.045000\n",
      "lr 3.500000e+04 reg 1.000000e-08 train accuracy: 0.272102 val accuracy: 0.290000\n",
      "lr 3.500000e+04 reg 1.000000e-07 train accuracy: 0.239673 val accuracy: 0.231000\n",
      "lr 3.500000e+04 reg 2.000000e-07 train accuracy: 0.224388 val accuracy: 0.228000\n",
      "lr 3.500000e+04 reg 2.000000e-06 train accuracy: 0.159449 val accuracy: 0.169000\n",
      "lr 3.500000e+04 reg 3.000000e-05 train accuracy: 0.093878 val accuracy: 0.081000\n",
      "lr 4.000000e+04 reg 1.000000e-08 train accuracy: 0.280571 val accuracy: 0.269000\n",
      "lr 4.000000e+04 reg 1.000000e-07 train accuracy: 0.242776 val accuracy: 0.254000\n",
      "lr 4.000000e+04 reg 2.000000e-07 train accuracy: 0.215000 val accuracy: 0.213000\n",
      "lr 4.000000e+04 reg 2.000000e-06 train accuracy: 0.219388 val accuracy: 0.212000\n",
      "lr 4.000000e+04 reg 3.000000e-05 train accuracy: 0.053490 val accuracy: 0.044000\n",
      "best validation accuracy achieved during cross-validation: 0.343000\n"
     ]
    }
   ],
   "source": [
    "# Use the validation set to tune hyperparameters (regularization strength and\n",
    "# learning rate). You should experiment with different ranges for the learning\n",
    "# rates and regularization strengths; if you are careful you should be able to\n",
    "# get a classification accuracy of over 0.35 on the validation set.\n",
    "from cs231n.classifiers import Softmax\n",
    "results = {}\n",
    "best_val = -1\n",
    "best_softmax = None\n",
    "learning_rates = [1e-8, 2e-7, 1e-7, 2e-6, 3e-5]\n",
    "regularization_strengths = [0.5e3, 1e3, 0.5e4, 1e4, 2e4, 2.5e4, 3e4, 3.5e4, 4e4]\n",
    "\n",
    "################################################################################\n",
    "# TODO:                                                                        #\n",
    "# Use the validation set to set the learning rate and regularization strength. #\n",
    "# This should be identical to the validation that you did for the SVM; save    #\n",
    "# the best trained softmax classifer in best_softmax.                          #\n",
    "################################################################################\n",
    "iters = 1500\n",
    "\n",
    "for rs in learning_rates:\n",
    "    for lr in regularization_strengths:\n",
    "        softmax_model = Softmax()\n",
    "        loss_hist = softmax_model.train(X_train, y_train, lr, rs, num_iters = iters)\n",
    "        y_train_pred = softmax_model.predict(X_train)\n",
    "        train_accuracy = np.mean([y_train_pred == y_train])\n",
    "        y_val_pred = softmax_model.predict(X_val)\n",
    "        val_accuracy = np.mean([y_val_pred == y_val])\n",
    "        if val_accuracy > best_val:\n",
    "            best_val = val_accuracy\n",
    "            best_softmax = softmax_model\n",
    "        results[(lr, rs)] = train_accuracy, val_accuracy\n",
    "        \n",
    "################################################################################\n",
    "#                              END OF YOUR CODE                                #\n",
    "################################################################################\n",
    "    \n",
    "# Print out results.\n",
    "for lr, reg in sorted(results):\n",
    "    train_accuracy, val_accuracy = results[(lr, reg)]\n",
    "    print('lr %e reg %e train accuracy: %f val accuracy: %f' % (\n",
    "                lr, reg, train_accuracy, val_accuracy))\n",
    "    \n",
    "print('best validation accuracy achieved during cross-validation: %f' % best_val)"
   ]
  },
  {
   "cell_type": "code",
   "execution_count": 35,
   "metadata": {},
   "outputs": [
    {
     "name": "stdout",
     "output_type": "stream",
     "text": [
      "softmax on raw pixels final test set accuracy: 0.315000\n"
     ]
    }
   ],
   "source": [
    "# evaluate on test set\n",
    "# Evaluate the best softmax on test set\n",
    "y_test_pred = best_softmax.predict(X_test)\n",
    "test_accuracy = np.mean(y_test == y_test_pred)\n",
    "print('softmax on raw pixels final test set accuracy: %f' % (test_accuracy, ))"
   ]
  },
  {
   "cell_type": "code",
   "execution_count": 36,
   "metadata": {},
   "outputs": [
    {
     "data": {
      "image/png": "[encoded data removed]",
      "text/plain": [
       "<Figure size 720x576 with 10 Axes>"
      ]
     },
     "metadata": {
      "needs_background": "light"
     },
     "output_type": "display_data"
    }
   ],
   "source": [
    "# Visualize the learned weights for each class\n",
    "w = best_softmax.W[:-1,:] # strip out the bias\n",
    "w = w.reshape(32, 32, 3, 10)\n",
    "\n",
    "w_min, w_max = np.min(w), np.max(w)\n",
    "\n",
    "classes = ['plane', 'car', 'bird', 'cat', 'deer', 'dog', 'frog', 'horse', 'ship', 'truck']\n",
    "for i in range(10):\n",
    "    plt.subplot(2, 5, i + 1)\n",
    "    \n",
    "    # Rescale the weights to be between 0 and 255\n",
    "    wimg = 255.0 * (w[:, :, :, i].squeeze() - w_min) / (w_max - w_min)\n",
    "    plt.imshow(wimg.astype('uint8'))\n",
    "    plt.axis('off')\n",
    "    plt.title(classes[i])"
   ]
  }
 ],
 "metadata": {
  "kernelspec": {
   "display_name": "Python 3",
   "language": "python",
   "name": "python3"
  },
  "language_info": {
   "codemirror_mode": {
    "name": "ipython",
    "version": 3
   },
   "file_extension": ".py",
   "mimetype": "text/x-python",
   "name": "python",
   "nbconvert_exporter": "python",
   "pygments_lexer": "ipython3",
   "version": "3.6.6"
  }
 },
 "nbformat": 4,
 "nbformat_minor": 1
}
